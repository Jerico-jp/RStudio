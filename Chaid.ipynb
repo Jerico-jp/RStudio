{
  "nbformat": 4,
  "nbformat_minor": 0,
  "metadata": {
    "colab": {
      "provenance": [],
      "authorship_tag": "ABX9TyNu+4ceX+cpogpcXTmU4Ane",
      "include_colab_link": true
    },
    "kernelspec": {
      "name": "python3",
      "display_name": "Python 3"
    },
    "language_info": {
      "name": "python"
    }
  },
  "cells": [
    {
      "cell_type": "markdown",
      "metadata": {
        "id": "view-in-github",
        "colab_type": "text"
      },
      "source": [
        "<a href=\"https://colab.research.google.com/github/Jerico-jp/RStudio/blob/main/Chaid.ipynb\" target=\"_parent\"><img src=\"https://colab.research.google.com/assets/colab-badge.svg\" alt=\"Open In Colab\"/></a>"
      ]
    },
    {
      "cell_type": "code",
      "source": [
        "pip install graphviz"
      ],
      "metadata": {
        "colab": {
          "base_uri": "https://localhost:8080/"
        },
        "id": "6D3Qr2m7Oz6Y",
        "outputId": "4c471f29-24e2-4772-c7f7-47189c089d91"
      },
      "execution_count": 6,
      "outputs": [
        {
          "output_type": "stream",
          "name": "stdout",
          "text": [
            "Requirement already satisfied: graphviz in /usr/local/lib/python3.10/dist-packages (0.20.1)\n"
          ]
        }
      ]
    },
    {
      "cell_type": "code",
      "source": [
        "import pandas as pd\n",
        "from sklearn.model_selection import train_test_split\n",
        "from sklearn.tree import DecisionTreeClassifier\n",
        "from sklearn.metrics import accuracy_score\n",
        "from sklearn.datasets import make_classification\n",
        "from sklearn.tree import DecisionTreeClassifier, export_graphviz\n",
        "import graphviz\n"
      ],
      "metadata": {
        "id": "S-4KNJLeOCba"
      },
      "execution_count": 7,
      "outputs": []
    },
    {
      "cell_type": "code",
      "source": [
        "# Configuración de la simulación\n",
        "num_samples = 1000\n",
        "\n",
        "# Ajusta estos valores según sea necesario\n",
        "n_informative = 2\n",
        "n_redundant = 1\n",
        "n_repeated = 0\n",
        "\n",
        "# Generar datos simulados\n",
        "X, y = make_classification(\n",
        "    n_samples=num_samples,\n",
        "    n_features=4,\n",
        "    n_informative=n_informative,\n",
        "    n_redundant=n_redundant,\n",
        "    n_repeated=n_repeated,\n",
        "    n_classes=2,\n",
        "    random_state=42\n",
        ")\n"
      ],
      "metadata": {
        "id": "xuYBqv5JR5ir"
      },
      "execution_count": 9,
      "outputs": []
    },
    {
      "cell_type": "code",
      "source": [
        "\n",
        "# Crear un DataFrame para los datos simulados\n",
        "df = pd.DataFrame(X, columns=['Horas_Estudio', 'Actividades_Extracurriculares', 'Redes_Sociales', 'Rendimiento_Academico'])\n",
        "df['Estrés'] = y\n",
        "\n",
        "# Simular relaciones más complejas\n",
        "df['Estrés'] += df['Horas_Estudio'] * 0.2 - df['Actividades_Extracurriculares'] * 0.3\n",
        "df['Estrés'] -= df['Redes_Sociales'] * 0.1 + df['Rendimiento_Academico'] * 0.15\n",
        "\n",
        "# Definir una función para categorizar el estrés\n",
        "def categorizar_estres(valor):\n",
        "    if valor < -0.5:\n",
        "        return 'Bajo'\n",
        "    elif valor < 0.5:\n",
        "        return 'Moderado'\n",
        "    else:\n",
        "        return 'Alto'\n",
        "\n",
        "# Aplicar la categorización al conjunto de datos\n",
        "df['Nivel_Estres'] = df['Estrés'].apply(categorizar_estres)\n"
      ],
      "metadata": {
        "id": "sxnkdokQSBBP"
      },
      "execution_count": 10,
      "outputs": []
    },
    {
      "cell_type": "code",
      "source": [
        "\n",
        "# Dividir los datos en conjunto de entrenamiento y prueba\n",
        "train_data, test_data, train_target, test_target = train_test_split(\n",
        "    df.drop(['Estrés', 'Nivel_Estres'], axis=1), df['Nivel_Estres'], test_size=0.2, random_state=42\n",
        ")\n",
        "\n",
        "# Entrenar un modelo de árbol de decisión\n",
        "model = DecisionTreeClassifier(random_state=42)\n",
        "model.fit(train_data, train_target)\n",
        "\n",
        "# Evaluar el modelo en el conjunto de prueba\n",
        "predictions = model.predict(test_data)\n",
        "accuracy = accuracy_score(test_target, predictions)\n",
        "print(f'Accuracy: {accuracy:.2f}')\n",
        "\n",
        "# Visualizar el árbol de decisión (CHAID)\n",
        "dot_data = export_graphviz(\n",
        "    model,\n",
        "    out_file=None,\n",
        "    feature_names=list(train_data.columns),\n",
        "    class_names=model.classes_.astype(str),\n",
        "    filled=True,\n",
        "    rounded=True,\n",
        "    special_characters=True\n",
        ")\n",
        "\n",
        "graph = graphviz.Source(dot_data)\n",
        "graph.render(\"decision_tree\")  # Esto generará un archivo decision_tree.pdf con la visualización\n",
        "graph.view(\"decision_tree\")    # Esto abrirá el archivo en tu visor de PDF predeterminado"
      ],
      "metadata": {
        "colab": {
          "base_uri": "https://localhost:8080/",
          "height": 55
        },
        "id": "DX__5qoPSIGi",
        "outputId": "8021a7e3-ab90-415c-c035-3278665a98d4"
      },
      "execution_count": 12,
      "outputs": [
        {
          "output_type": "stream",
          "name": "stdout",
          "text": [
            "Accuracy: 0.85\n"
          ]
        },
        {
          "output_type": "execute_result",
          "data": {
            "text/plain": [
              "'decision_tree.pdf'"
            ],
            "application/vnd.google.colaboratory.intrinsic+json": {
              "type": "string"
            }
          },
          "metadata": {},
          "execution_count": 12
        }
      ]
    },
    {
      "cell_type": "markdown",
      "source": [],
      "metadata": {
        "id": "KMLKEwpTSP1-"
      }
    },
    {
      "cell_type": "markdown",
      "source": [],
      "metadata": {
        "id": "3L3KyvoYSQnH"
      }
    },
    {
      "cell_type": "markdown",
      "source": [],
      "metadata": {
        "id": "cWFV2kQ_SQ8I"
      }
    }
  ]
}